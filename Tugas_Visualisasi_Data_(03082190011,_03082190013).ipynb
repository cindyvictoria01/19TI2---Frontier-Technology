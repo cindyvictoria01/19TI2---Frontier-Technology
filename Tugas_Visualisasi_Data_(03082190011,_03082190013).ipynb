{
  "cells": [
    {
      "cell_type": "markdown",
      "metadata": {
        "id": "view-in-github",
        "colab_type": "text"
      },
      "source": [
        "<a href=\"https://colab.research.google.com/github/cindyvictoria01/19TI2/blob/master/Tugas_Visualisasi_Data_(03082190011%2C_03082190013).ipynb\" target=\"_parent\"><img src=\"https://colab.research.google.com/assets/colab-badge.svg\" alt=\"Open In Colab\"/></a>"
      ]
    },
    {
      "cell_type": "markdown",
      "metadata": {
        "id": "y8UZO7Odc6Hz"
      },
      "source": [
        "# Tugas\n",
        "\n",
        "Terdapat lima soal pada tugas kali ini. Tiap soal memiliki dataset dan query terkait. Gunakanlah pandas, mattplotlib, seaborn untuk mebuat visualisasi yang membantu kita menjawab pertanyaan terkait\n",
        "\n",
        "Untuk setiap latihan, pilih salah satu dari visualisasi berikut:\n",
        "* Pie chart\n",
        "* Bar chart\n",
        "* Line graph\n",
        "* Scatter plot\n",
        "* Heatmap\n",
        "\n",
        "\n",
        "Dalam beberapa kasus, mungkin ada lebih dari satu \"jawaban benar\", karena seringkali ada banyak cara yang baik untuk memvisualisasikan data. Gunakan penilaian Anda untuk memilih mana yang menurut Anda terbaik untuk setiap pertanyaan.\n",
        "\n",
        "Tambahkan judul, label, kode warna, dan alat bantu visual lainnya bila Anda bisa untuk membantu pengguna menafsirkan visualisasi yang dibuat."
      ]
    },
    {
      "cell_type": "markdown",
      "metadata": {
        "id": "_HFvehCieCIi"
      },
      "source": [
        "## Soal 1 : Desserts\n"
      ]
    },
    {
      "cell_type": "markdown",
      "metadata": {
        "id": "A8HLHaSnhPtd"
      },
      "source": [
        "Kami memiliki daftar harga Bitcoin yang tercatat setiap akhir minggu (Minggu) di tahun 2018 dan 2019. Buat visualisasi yang memungkinkan Anda menjawab pertanyaan: *Tahun mana, 2018 atau 2019, yang cenderung memberikan pengembalian lebih baik bagi pemegang Bitcoin? *"
      ]
    },
    {
      "cell_type": "markdown",
      "metadata": {
        "id": "zERQWc82edZg"
      },
      "source": [
        "**Solusi**"
      ]
    },
    {
      "cell_type": "code",
      "execution_count": null,
      "metadata": {
        "id": "BG6uOwnXebwS"
      },
      "outputs": [],
      "source": [
        "prices = [14292.2, 12858.9, 11467.5, 9241.1, 8559.6, 11073.5, 9704.3, 11402.3,\n",
        "          8762.0, 7874.9, 8547.4, 6938.2, 6905.7, 8004.4, 8923.1, 9352.4,\n",
        "          9853.5, 8459.5, 8245.1, 7361.3, 7646.6, 7515.8, 6505.8, 6167.3, \n",
        "          6398.9, 6765.5, 6254.8, 7408.7, 8234.1, 7014.3, 6231.6, 6379.1,\n",
        "          6734.8, 7189.6, 6184.3, 6519.0, 6729.6, 6603.9, 6596.3, 6321.7,\n",
        "          6572.2, 6494.2, 6386.2, 6427.1, 5621.8, 3920.4, 4196.2, 3430.4,\n",
        "          3228.7, 3964.4, 3706.8, 3785.4, 3597.2, 3677.8, 3570.9, 3502.5,\n",
        "          3661.4, 3616.8, 4120.4, 3823.1, 3944.3, 4006.4, 4002.5, 4111.8,\n",
        "          5046.2, 5051.8, 5290.2, 5265.9, 5830.9, 7190.3, 7262.6, 8027.4,\n",
        "          8545.7, 7901.4, 8812.5, 10721.7, 11906.5, 11268.0, 11364.9, 10826.7,\n",
        "          9492.1, 10815.7, 11314.5, 10218.1, 10131.0, 9594.4, 10461.1, 10337.3,\n",
        "          9993.0, 8208.5, 8127.3, 8304.4, 7957.3, 9230.6, 9300.6, 8804.5,\n",
        "          8497.3, 7324.1, 7546.6, 7510.9, 7080.8, 7156.2, 7321.5, 7376.8]\n",
        "          \n",
        "# Solusi\n",
        "from IPython.display import HTML\n",
        "import pandas as pd\n",
        "import matplotlib.pyplot as plt\n",
        "from datetime import date, timedelta\n",
        "\n",
        "date1 = date(2018, 1, 7)\n",
        "date2 = date(2019, 12, 29)\n",
        "day = timedelta(days=7)\n",
        "x = []\n",
        "\n",
        "while date1 <= date2:\n",
        "    date1 = date1 + day\n",
        "    x.append(date1)\n",
        "\n",
        "df = pd.DataFrame(prices, columns=['price'])\n",
        "\n",
        "# line graph\n",
        "plt.xlabel(\"Tanggal\")\n",
        "plt.ylabel(\"Harga Bitcoin\")\n",
        "plt.plot(x, df)\n",
        "plt.show()"
      ]
    },
    {
      "cell_type": "markdown",
      "metadata": {
        "id": "3ISo-a_MtdLg"
      },
      "source": [
        "**Penjelasan**"
      ]
    },
    {
      "cell_type": "markdown",
      "metadata": {
        "id": "W5mybUGrtgH-"
      },
      "source": [
        "Grafik mana yang Anda pilih dan mengapa?\n",
        "\n",
        "> Line Graph, karena lebih mudah dibaca kenaikan atau penurunan harga Bitcoin yang disajikan dengan garis naik ataupun turun. "
      ]
    },
    {
      "cell_type": "markdown",
      "metadata": {
        "id": "8KHRyO_-t2nL"
      },
      "source": [
        "Tahun berapakah yang memberikan return terbaik?\n",
        "\n",
        "> Tahun 2019"
      ]
    },
    {
      "cell_type": "markdown",
      "metadata": {
        "id": "tb3B6lq9eaRv"
      },
      "source": [
        "---"
      ]
    },
    {
      "cell_type": "markdown",
      "metadata": {
        "id": "VyjwxIZ6uxyz"
      },
      "source": [
        "## Soal 2: Candy\n",
        "\n",
        "Kami memiliki sekantong permen. Kantong tersebut berisi lima jenis permen, masing-masing diberi nama di bawah ini. Buat chart yang menunjukkan persentase peluang bahwa kita akan mengeluarkan permen Snickers dari kantong jika kita melakukan seleksi secara acak. Berapa persen peluang terpilihnya \"Toblerone\"?"
      ]
    },
    {
      "cell_type": "markdown",
      "metadata": {
        "id": "mAYs352dvA9U"
      },
      "source": [
        "**Solusi**"
      ]
    },
    {
      "cell_type": "code",
      "execution_count": null,
      "metadata": {
        "id": "v92aHPHZvD2z"
      },
      "outputs": [],
      "source": [
        "candy_names = ['Kit Kat', 'Snickers', 'Milky Way', 'Toblerone', 'Twix']\n",
        "candy_counts = [52, 39, 78, 13, 78]\n",
        "\n",
        "# Solusi\n",
        "from IPython.display import HTML\n",
        "import pandas as pd\n",
        "import matplotlib.pyplot as plt\n",
        "\n",
        "def probs(x):\n",
        "  total = 0\n",
        "  for i in candy_counts:\n",
        "    total += i\n",
        "  return x/total * 100\n",
        "\n",
        "candy_probs = []\n",
        "for i in candy_counts:\n",
        "  p = probs(i)\n",
        "  candy_probs.append(p)\n",
        "\n",
        "# pie chart\n",
        "plt.pie(candy_probs, labels=candy_names, autopct='%1.1f%%')\n",
        "plt.show()"
      ]
    },
    {
      "cell_type": "markdown",
      "metadata": {
        "id": "LIsUqwFTvGAT"
      },
      "source": [
        "**Penjelasan**"
      ]
    },
    {
      "cell_type": "markdown",
      "metadata": {
        "id": "ICVHBALOvI3b"
      },
      "source": [
        "Tipe chart apa yang anda pilih dan mengapa?\n",
        "> Pie Chart, karena melalui chart ini persentase/proporsi lebih mudah dibaca."
      ]
    },
    {
      "cell_type": "markdown",
      "metadata": {
        "id": "lEXhqyfIv4Dd"
      },
      "source": [
        "Berapa persen peluang terpilihnya \"Toblerone\"?\n",
        "> 5%"
      ]
    },
    {
      "cell_type": "markdown",
      "metadata": {
        "id": "RBbVa5s4vNNs"
      },
      "source": [
        "---"
      ]
    },
    {
      "cell_type": "markdown",
      "metadata": {
        "id": "CbLlgsnwxC4X"
      },
      "source": [
        "## Soal 3: Dessert Popularity\n",
        "\n",
        "Restoran tempat kami berkonsultasi memiliki menu makanan penutup yang terlalu banyak. Mereka ingin mengurangi beberapa item dari menu. Untuk membuat sebagian besar pelanggan mereka senang, mereka hanya ingin menghapus tiga makanan penutup yang paling tidak populer dari menu.\n",
        "\n",
        "Kami memiliki daftar makanan penutup yang disajikan restoran, serta hitungan berapa kali makanan penutup terjual dalam seminggu terakhir.\n",
        "\n",
        "Buat visualisasi yang menunjukkan popularitas relatif dari makanan penutup. Sebutkan tiga makanan penutup yang harus dihilangkan."
      ]
    },
    {
      "cell_type": "markdown",
      "metadata": {
        "id": "DXOwYyJsx2M4"
      },
      "source": [
        "**Solusi**"
      ]
    },
    {
      "cell_type": "code",
      "execution_count": null,
      "metadata": {
        "id": "p0nScKq9x5QX"
      },
      "outputs": [],
      "source": [
        "dessert_sales = {\n",
        "  'Lava Cake': 14,\n",
        "  'Mousse': 5,\n",
        "  'Chocolate Cake': 12,\n",
        "  'Ice Cream': 19,\n",
        "  'Truffles': 6,\n",
        "  'Brownie': 8,\n",
        "  'Chocolate Chip Cookie': 12,\n",
        "  'Chocolate Pudding': 9,\n",
        "  'Souffle': 10,\n",
        "  'Chocolate Cheesecake': 17,\n",
        "  'Chocolate Chips': 2,\n",
        "  'Fudge': 9,\n",
        "  'Mochi': 13,\n",
        "}\n",
        "\n",
        "# Jawaban\n",
        "from IPython.display import HTML\n",
        "import pandas as pd\n",
        "import matplotlib.pyplot as plt\n",
        "\n",
        "df = pd.DataFrame({'Penjualan': dessert_sales.values()}, index=dessert_sales.keys())\n",
        "\n",
        "sorted_df = df.sort_values(by='Penjualan', ascending=False)\n",
        "\n",
        "# bar chart\n",
        "sorted_df.plot.bar(y=['Penjualan'], rot=0, width = 0.7)\n",
        "plt.show()"
      ]
    },
    {
      "cell_type": "markdown",
      "metadata": {
        "id": "36bGVRQC3m1O"
      },
      "source": [
        "**Penjelasan**"
      ]
    },
    {
      "cell_type": "markdown",
      "metadata": {
        "id": "A5--nHzKx_HH"
      },
      "source": [
        "Tipe chart apa yang anda pilih dan mengapa?\n",
        "> Bar Chart, karena lebih mudah untuk membandingkan frekuensi data yang satu dengan yang lainnya."
      ]
    },
    {
      "cell_type": "markdown",
      "metadata": {
        "id": "RLOMBnjQx_5q"
      },
      "source": [
        "Tiga desserts mana yang harus dikeluarkan dari menu?\n",
        "> Chocolate Chips, Mousse, dan Truffles"
      ]
    },
    {
      "cell_type": "markdown",
      "metadata": {
        "id": "eaD-WjlZyF5B"
      },
      "source": [
        "---"
      ]
    },
    {
      "cell_type": "markdown",
      "metadata": {
        "id": "qGrTK4hn2VE6"
      },
      "source": [
        "## Soal 4: CPU Usage\n",
        "\n",
        "kita memiliki data penggunaan CPU rata-rata per jam untuk komputer pekerja selama seminggu. Setiap baris data mewakili hari dalam seminggu yang dimulai dengan hari Senin. Setiap kolom data adalah satu jam dalam satu hari dimulai dengan 0 (tengah malam)\n",
        "\n",
        "Buat chart yang menunjukkan penggunaan CPU selama seminggu. Anda harus dapat menjawab pertanyaan-pertanyaan berikut dengan menggunakan grafik:\n",
        "\n",
        "* Kapan pekerja biasanya makan siang?\n",
        "* Apakah pekerja tersebut bekerja pada akhir pekan?\n",
        "* Pada hari kerja apa pekerja mulai bekerja di komputer mereka paling lambat?"
      ]
    },
    {
      "cell_type": "markdown",
      "metadata": {
        "id": "hTNXz8dD3M4o"
      },
      "source": [
        "**Solusi**"
      ]
    },
    {
      "cell_type": "code",
      "execution_count": null,
      "metadata": {
        "id": "map4NIff3O2s"
      },
      "outputs": [],
      "source": [
        "cpu_usage = [\n",
        "  [2, 2, 4, 2, 4, 1, 1, 4, 4, 12, 22, 23, \n",
        "   45, 9, 33, 56, 23, 40, 21, 6, 6, 2, 2, 3], # Monday\n",
        "  [1, 2, 3, 2, 3, 2, 3, 2, 7, 22, 45, 44,\n",
        "   33, 9, 23, 19, 33, 56, 12, 2, 3, 1, 2, 2], # Tuesday\n",
        "  [2, 3, 1, 2, 4, 4, 2, 2, 1, 2,  5, 31,\n",
        "   54, 7, 6, 34, 68, 34, 49, 6, 6, 2, 2, 3], # Wednesday\n",
        "  [1, 2, 3, 2, 4, 1, 2, 4, 1, 17, 24, 18,\n",
        "   41, 3, 44, 42, 12, 36, 41, 2, 2, 4, 2, 4], # Thursday\n",
        "  [4, 1, 2, 2, 3, 2, 5, 1, 2, 12, 33, 27,\n",
        "   43, 8, 38, 53, 29, 45, 39, 3, 1, 1, 3, 4], # Friday\n",
        "  [2, 3, 1, 2, 2, 5, 2, 8, 4, 2, 3,\n",
        "   1, 5, 1, 2, 3, 2, 6, 1, 2, 2, 1, 4, 3], # Saturday\n",
        "  [1, 2, 3, 1, 1, 3, 4, 2, 3, 1, 2,\n",
        "   2, 5, 3, 2, 1, 4, 2, 45, 26, 33, 2, 2, 1], # Sunday\n",
        "]\n",
        "\n",
        "# Solusi\n",
        "import numpy as np \n",
        "from pandas import DataFrame\n",
        "import seaborn as sns\n",
        "%matplotlib inline\n",
        "\n",
        "Index= ['Senin', 'Selasa', 'Rabu', 'Kamis', 'Jumat', 'Sabtu', 'Minggu']\n",
        "Cols = []\n",
        "for i in range (0,24):\n",
        "  Cols.append(i)\n",
        "\n",
        "df = DataFrame(cpu_usage, index=Index, columns=Cols)\n",
        "sns.heatmap(df, annot=True)"
      ]
    },
    {
      "cell_type": "markdown",
      "metadata": {
        "id": "sWoAg5iD3Vr5"
      },
      "source": [
        "**Penjelasan**"
      ]
    },
    {
      "cell_type": "markdown",
      "metadata": {
        "id": "8v8_Ek2V3ZIY"
      },
      "source": [
        "Tipe chart apa yang anda pilih dan mengapa?\n",
        "> Heatmap, karena dengan penyajian dengan warna pembaca dapat melihat perbandingan waktu secara langsung dan menyeluruh."
      ]
    },
    {
      "cell_type": "markdown",
      "metadata": {
        "id": "uUslPlGE3Z3M"
      },
      "source": [
        "Pada jam berapa biasa pekerja makan siang?\n",
        "> Pada jam 13.00"
      ]
    },
    {
      "cell_type": "markdown",
      "metadata": {
        "id": "9-HR116G-MaD"
      },
      "source": [
        "Apakah pekerja berkerja pada weekend?\n",
        "> Ada, tetapi tidak sebanyak pada weekday"
      ]
    },
    {
      "cell_type": "markdown",
      "metadata": {
        "id": "UBI56HLI-Rex"
      },
      "source": [
        "Pada hari kerja apa biasanya pekerja memulai pekerjaannya paling telat?\n",
        "> Hari Rabu"
      ]
    },
    {
      "cell_type": "markdown",
      "metadata": {
        "id": "gnrpRUMK3aZ4"
      },
      "source": [
        "---"
      ]
    },
    {
      "cell_type": "markdown",
      "metadata": {
        "id": "wIV7IgGm-9Y_"
      },
      "source": [
        "## Soal 5: Mushrooms\n",
        "\n",
        "Seorang peneliti sedang mempelajari jamur. Mereka telah menemukan pola cincin pada kumpulan data tersebut. Biasanya jamur memancar keluar dari pusat koordinat. Dari data koordinat di bawah ini, peneliti ingin menjawab pertanyaan: *Kira-kira pada koordinat mana terdapat jamur yang asli/awal?\n",
        "\n",
        "Buat chart yang memungkinkan peneliti memperkirakan pusat pertumbuhan.\n"
      ]
    },
    {
      "cell_type": "markdown",
      "metadata": {
        "id": "sdEU5smR8grs"
      },
      "source": [
        "**Solusi**"
      ]
    },
    {
      "cell_type": "code",
      "execution_count": null,
      "metadata": {
        "id": "j87gJ87t8iey"
      },
      "outputs": [],
      "source": [
        "x = [4.61, 5.08, 5.18, 7.82, 10.46, 7.66, 7.6, 9.32, 14.04, 9.95, 4.95, 7.23, \n",
        "     5.21, 8.64, 10.08, 8.32, 12.83, 7.51, 7.82, 6.29, 0.04, 6.62, 13.16, 6.34, \n",
        "     0.09, 10.04, 13.06, 9.54, 11.32, 7.12, -0.67, 10.5, 8.37, 7.24, 9.18, \n",
        "     10.12, 12.29, 8.53, 11.11, 9.65, 9.42, 8.61, -0.67, 5.94, 6.49, 7.57, 3.11,\n",
        "     8.7, 5.28, 8.28, 9.55, 8.33, 13.7, 6.65, 2.4, 3.54, 9.19, 7.51, -0.68,\n",
        "     8.47, 14.82, 5.31, 14.01, 8.75, -0.57, 5.35, 10.51, 3.11, -0.26, 5.74,\n",
        "     8.33, 6.5, 13.85, 9.78, 4.91, 4.19, 14.8, 10.04, 13.47, 3.28]\n",
        "\n",
        "y = [-2.36, -3.41, 13.01, -2.91, -2.28, 12.83, 13.13, 11.94, 0.93, -2.76, 13.31,\n",
        "     -3.57, -2.33, 12.43, -1.83, 12.32, -0.42, -3.08, -2.98, 12.46, 8.34, -3.19,\n",
        "     -0.47, 12.78, 2.12, -2.72, 10.64, 11.98, 12.21, 12.52, 5.53, 11.72, 12.91,\n",
        "     12.56, -2.49, 12.08, -1.09, -2.89, -1.78, -2.47, 12.77, 12.41, 5.33, -3.23,\n",
        "     13.45, -3.41, 12.46, 12.1, -2.56, 12.51, -2.37, 12.76, 9.69, 12.59, -1.12,\n",
        "     -2.8, 12.94, -3.55, 7.33, 12.59, 2.92, 12.7, 0.5, 12.57, 6.39, 12.84,\n",
        "     -1.95, 11.76, 6.82, 12.44, 13.28, -3.46, 0.7, -2.55, -2.37, 12.48, 7.26,\n",
        "     -2.45, 0.31, -2.51]\n",
        "\n",
        "# Solusi\n",
        "from IPython.display import HTML\n",
        "import pandas as pd\n",
        "import matplotlib.pyplot as plt\n",
        "\n",
        "plt.scatter(x, y)\n",
        "plt.show()"
      ]
    },
    {
      "cell_type": "markdown",
      "metadata": {
        "id": "iO7IBBRf-Ywp"
      },
      "source": [
        "**Penjelasan**"
      ]
    },
    {
      "cell_type": "markdown",
      "metadata": {
        "id": "uPllKeQR8jaB"
      },
      "source": [
        "Tipe chart apa yang anda pilih dan mengapa?\n",
        "> Scatter Chart, karena tidak urutan pola dari data tidak linear dan posisinya bertebaran."
      ]
    },
    {
      "cell_type": "markdown",
      "metadata": {
        "id": "V-e0LodW8o-Q"
      },
      "source": [
        "Pada koordinat berapa jamur yang asli/awalnya?\n",
        "> Koordinat : (0.09, 2.12)\n"
      ]
    }
  ],
  "metadata": {
    "colab": {
      "collapsed_sections": [],
      "name": "Tugas - Visualisasi Data (03082190011, 03082190013).ipynb",
      "private_outputs": true,
      "provenance": [],
      "include_colab_link": true
    },
    "kernelspec": {
      "display_name": "Python 3",
      "language": "python",
      "name": "python3"
    },
    "language_info": {
      "codemirror_mode": {
        "name": "ipython",
        "version": 3
      },
      "file_extension": ".py",
      "mimetype": "text/x-python",
      "name": "python",
      "nbconvert_exporter": "python",
      "pygments_lexer": "ipython3",
      "version": "3.10.1"
    },
    "varInspector": {
      "cols": {
        "lenName": 16,
        "lenType": 16,
        "lenVar": 40
      },
      "kernels_config": {
        "python": {
          "delete_cmd_postfix": "",
          "delete_cmd_prefix": "del ",
          "library": "var_list.py",
          "varRefreshCmd": "print(var_dic_list())"
        },
        "r": {
          "delete_cmd_postfix": ") ",
          "delete_cmd_prefix": "rm(",
          "library": "var_list.r",
          "varRefreshCmd": "cat(var_dic_list()) "
        }
      },
      "types_to_exclude": [
        "module",
        "function",
        "builtin_function_or_method",
        "instance",
        "_Feature"
      ],
      "window_display": false
    }
  },
  "nbformat": 4,
  "nbformat_minor": 0
}