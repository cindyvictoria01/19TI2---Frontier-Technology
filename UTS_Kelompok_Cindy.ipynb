{
  "cells": [
    {
      "cell_type": "markdown",
      "metadata": {
        "id": "view-in-github",
        "colab_type": "text"
      },
      "source": [
        "<a href=\"https://colab.research.google.com/github/cindyvictoria01/19TI2/blob/master/UTS_Kelompok_Cindy.ipynb\" target=\"_parent\"><img src=\"https://colab.research.google.com/assets/colab-badge.svg\" alt=\"Open In Colab\"/></a>"
      ]
    },
    {
      "cell_type": "markdown",
      "metadata": {
        "id": "3qoZw_3eFOwN"
      },
      "source": [
        "# Ujian Tengah Semester - Frontier Technology - UPH Medan Campus - 2021"
      ]
    },
    {
      "cell_type": "markdown",
      "metadata": {
        "id": "-NY__G8kFOwP"
      },
      "source": [
        "## PENTING :  Jawaban dikumpulkan dalam format *.ipynb dengan standar penamaan : NamaKelompok.ipynb \n",
        "\n",
        "### 1 Kelompok maksimal 2 orang - Tuliskan anggota kelompok ketika submit.\n",
        "\n",
        " \n",
        "### Anggota Kelompok:\n",
        "### - Cindy B. Victoria 03082190011\n",
        "### - Cindy Leoni 03082190013\n",
        "### 19TI2\n"
      ]
    },
    {
      "cell_type": "markdown",
      "metadata": {
        "id": "-2CD2EcZFOwQ"
      },
      "source": [
        "## Case 01\n",
        "\n",
        "### Amazon Web Services sebagai salah satu provider cloud terbesar menyediakan list CIDR Block alamat IP yang digunakan pada tiap region. List CIDR Block ini dapat diakses melalui URL : https://ip-ranges.amazonaws.com/ip-ranges.json"
      ]
    },
    {
      "cell_type": "code",
      "execution_count": null,
      "metadata": {
        "id": "DU0rapmhFOwS"
      },
      "outputs": [],
      "source": [
        "import requests\n",
        "resp = requests.get('https://ip-ranges.amazonaws.com/ip-ranges.json')\n",
        "# API Response : status, headers, and body"
      ]
    },
    {
      "cell_type": "markdown",
      "metadata": {
        "id": "o28L5W-4FOwS"
      },
      "source": [
        "#### Dari data tersebut anda diminta untuk menjawab beberapa pertanyaan berikut : \n",
        "#### 1. Berapa jumlah \"region\" dan \"service\" pada berdasarkan data tersebut?\n",
        "#### 2. Berapa jumlah/total CIDR Blocks yang dialokasikan berdasarkan data tersebut?\n",
        "#### 3. Lima Region mana yang memiliki alokasi CIDR Blocks paling sedikit?\n",
        "#### 4. Sepuluh Region mana yang memiliki alokasi CIDR Blocks paling banyak? (Abaikan Region : \"GLOBAL\")\n",
        "#### 5. Buatlah visualisasi dari 10 regions dengan alokasi IP paling banyak (Abaikan Region : \"GLOBAL\")\n",
        "#### 6. Berapa jumlah CIDR blocks yang dialokasikan untuk wilayah Asia Pacific? (dimulai dari ap-)"
      ]
    },
    {
      "cell_type": "markdown",
      "metadata": {
        "id": "KeOWEXa9FOwT"
      },
      "source": [
        "## Solusi Case 01 : "
      ]
    },
    {
      "cell_type": "code",
      "execution_count": null,
      "metadata": {
        "id": "pLikd7X2dhWL",
        "colab": {
          "base_uri": "https://localhost:8080/",
          "height": 1000
        },
        "outputId": "766de51e-d1c7-4dcd-99ce-6e9c3fe96197"
      },
      "outputs": [
        {
          "output_type": "stream",
          "name": "stdout",
          "text": [
            "Jumlah dari tiap region (prefixes dan ipv6_prefixes)\n",
            "                region\n",
            "us-east-1         1225\n",
            "us-west-2          594\n",
            "us-west-1          534\n",
            "eu-west-1          429\n",
            "GLOBAL             386\n",
            "us-east-2          377\n",
            "eu-central-1       357\n",
            "ap-southeast-1     348\n",
            "ap-northeast-1     338\n",
            "eu-west-2          319\n",
            "sa-east-1          258\n",
            "ap-southeast-2     230\n",
            "ap-south-1         229\n",
            "ap-northeast-2     183\n",
            "eu-south-1         181\n",
            "ca-central-1       177\n",
            "eu-west-3          153\n",
            "eu-north-1         151\n",
            "ap-east-1          136\n",
            "cn-north-1         127\n",
            "af-south-1         125\n",
            "ap-northeast-3     124\n",
            "cn-northwest-1     120\n",
            "me-south-1         111\n",
            "ap-southeast-3      87\n",
            "us-gov-west-1       85\n",
            "eu-south-2          69\n",
            "ap-southeast-4      67\n",
            "us-gov-east-1       66\n",
            "ap-south-2          65\n",
            "me-central-1        59\n",
            "eu-central-2        59\n",
            "il-central-1        47\n",
            "Total: region    33\n",
            "dtype: int64\n"
          ]
        },
        {
          "output_type": "display_data",
          "data": {
            "image/png": "[encoded data removed]",
            "text/plain": [
              "<Figure size 432x288 with 1 Axes>"
            ]
          },
          "metadata": {
            "needs_background": "light"
          }
        },
        {
          "output_type": "stream",
          "name": "stdout",
          "text": [
            "\n",
            "Jumlah dari tiap services (prefixes)\n",
            "                                 service\n",
            "AMAZON                              4140\n",
            "EC2                                  833\n",
            "ROUTE53_RESOLVER                     521\n",
            "S3                                   220\n",
            "API_GATEWAY                          137\n",
            "CLOUDFRONT                           131\n",
            "GLOBALACCELERATOR                     83\n",
            "DYNAMODB                              79\n",
            "CODEBUILD                             49\n",
            "EBS                                   49\n",
            "CLOUD9                                48\n",
            "AMAZON_APPFLOW                        48\n",
            "CLOUDFRONT_ORIGIN_FACING              44\n",
            "WORKSPACES_GATEWAYS                   36\n",
            "ROUTE53_HEALTHCHECKS_PUBLISHING       25\n",
            "ROUTE53_HEALTHCHECKS                  23\n",
            "EC2_INSTANCE_CONNECT                  20\n",
            "KINESIS_VIDEO_STREAMS                 19\n",
            "AMAZON_CONNECT                         9\n",
            "CHIME_VOICECONNECTOR                   4\n",
            "ROUTE53                                3\n",
            "CHIME_MEETINGS                         1\n",
            "Total: service    22\n",
            "dtype: int64\n"
          ]
        },
        {
          "output_type": "display_data",
          "data": {
            "image/png": "[encoded data removed]",
            "text/plain": [
              "<Figure size 432x288 with 1 Axes>"
            ]
          },
          "metadata": {
            "needs_background": "light"
          }
        },
        {
          "output_type": "stream",
          "name": "stdout",
          "text": [
            "\n",
            "Jumlah dari tiap services (ipv6_prefixes)\n",
            "                      service\n",
            "AMAZON                    747\n",
            "EC2                       308\n",
            "S3                        193\n",
            "CLOUDFRONT                 24\n",
            "ROUTE53_HEALTHCHECKS       22\n",
            "Total: service    5\n",
            "dtype: int64\n"
          ]
        },
        {
          "output_type": "display_data",
          "data": {
            "image/png": "[encoded data removed]",
            "text/plain": [
              "<Figure size 432x288 with 1 Axes>"
            ]
          },
          "metadata": {
            "needs_background": "light"
          }
        },
        {
          "output_type": "stream",
          "name": "stdout",
          "text": [
            "                region\n",
            "GLOBAL             386\n",
            "af-south-1         125\n",
            "ap-east-1          136\n",
            "ap-northeast-1     338\n",
            "ap-northeast-2     183\n",
            "ap-northeast-3     124\n",
            "ap-south-1         229\n",
            "ap-south-2          65\n",
            "ap-southeast-1     348\n",
            "ap-southeast-2     230\n",
            "ap-southeast-3      87\n",
            "ap-southeast-4      67\n",
            "ca-central-1       177\n",
            "cn-north-1         127\n",
            "cn-northwest-1     120\n",
            "eu-central-1       357\n",
            "eu-central-2        59\n",
            "eu-north-1         151\n",
            "eu-south-1         181\n",
            "eu-south-2          69\n",
            "eu-west-1          429\n",
            "eu-west-2          319\n",
            "eu-west-3          153\n",
            "il-central-1        47\n",
            "me-central-1        59\n",
            "me-south-1         111\n",
            "sa-east-1          258\n",
            "us-east-1         1225\n",
            "us-east-2          377\n",
            "us-gov-east-1       66\n",
            "us-gov-west-1       85\n",
            "us-west-1          534\n",
            "us-west-2          594\n"
          ]
        }
      ],
      "source": [
        "from IPython.display import HTML\n",
        "import matplotlib.pyplot as plt\n",
        "import pandas as pd\n",
        "import json\n",
        "import re\n",
        "from pandas import json_normalize\n",
        "\n",
        "# convert data from json to dataframe\n",
        "dict = json.loads(resp.text)\n",
        "df1 = json_normalize(dict['prefixes'])\n",
        "df2 = json_normalize(dict['ipv6_prefixes'])\n",
        "\n",
        "# each region count (combine prefixes and ipv6_prefixes)\n",
        "df_rcount = pd.DataFrame(df1.region.value_counts() + df2.region.value_counts())\n",
        "df_rcount = df_rcount.sort_values(by='region', ascending=False)\n",
        "\n",
        "# each service count (prefixes)\n",
        "df1_scount = pd.DataFrame(df1.service.value_counts()) \n",
        "df1_scount = df1_scount.sort_values(by='service', ascending=False)\n",
        "\n",
        "# each service count (ipv6_prefixes)\n",
        "df2_scount = pd.DataFrame(df2.service.value_counts())\n",
        "df2_scount = df2_scount.sort_values(by='service', ascending=False)\n",
        "\n",
        "# no 1 - Jlh region & service\n",
        "print(\"1. Total Region:\")\n",
        "print(df_rcount.count())\n",
        "print(\"Total Service:\")\n",
        "print(df1_scount.count())\n",
        "print(\"Total Service (ipv6):\")\n",
        "print(df2_scount.count())\n",
        "\n",
        "# no 2 - Jlh CIDR Blocks\n",
        "print('2. Jumlah CIDR Blocks: ', df_rcount.region.sum())\n",
        "\n",
        "# no 3 - 5 Region CIDR paling sedikit\n",
        "print('3. 5 Region yang memiliki alokasi CIDR Blocks paling sedikit:')\n",
        "print(df_rcount.tail(5))\n",
        "\n",
        "# no 4 - 10 Region CIDR terbanyak (excl. GLOBAL)\n",
        "print('4. 10 Region yang memiliki alokasi CIDR Blocks paling banyak:')\n",
        "global_regions = df_rcount[df_rcount.index.astype(str).str.contains('GLOBAL')].index\n",
        "df_rcount.drop(global_regions, inplace = True)\n",
        "print(df_rcount.head(10))\n",
        "\n",
        "# no 5 - Visualisasi 10 Region CIDR terbanyak (excl. GLOBAL)\n",
        "print('5. Visualisasi 10 regions dengan alokasi IP paling banyak')\n",
        "df_rcount.head(10).plot.bar()\n",
        "plt.show()\n",
        "\n",
        "# no 6 - Asia Pacific\n",
        "print(\"6. Jumlah CIDR blocks yang dialokasikan untuk wilayah Asia Pacific\")\n",
        "df_regions =  df_rcount.sort_index()\n",
        "ap_regions = df_regions[df_regions.index.astype(str).str.contains('ap-')]\n",
        "display(ap_regions)\n",
        "print('Total CIDR: ')\n",
        "print(ap_regions.sum())"
      ]
    },
    {
      "cell_type": "markdown",
      "metadata": {
        "id": "Fu6C0J37FOwa"
      },
      "source": [
        "## Case 02\n",
        "\n",
        "### Pada kasus ini anda akan diberikan beberapa contoh data tentang pembelian yang dilakukan melalui eCommerce Amazon. Data tersebut dapat anda akses melalui URL berikut : https://uph-datasets.s3-ap-southeast-1.amazonaws.com/eCommerce.csv"
      ]
    },
    {
      "cell_type": "code",
      "execution_count": null,
      "metadata": {
        "id": "1Oj0Ir66FOwa"
      },
      "outputs": [],
      "source": [
        "import pandas as pd\n",
        "ecommerce_df = pd.read_csv(\"https://uph-datasets.s3-ap-southeast-1.amazonaws.com/eCommerce.csv\")"
      ]
    },
    {
      "cell_type": "markdown",
      "metadata": {
        "id": "lWZ1wy9BFOwb"
      },
      "source": [
        "#### Dari data tersebut anda diminta untuk menjawab beberapa pertanyaan berikut : \n",
        "#### 1. Berapa pekerjaan yang titlenya mengandung kata \"engineer\"?\n",
        "#### 2. Berapa orang yang menggunakan bahasa Russia untuk mengakses website tersebut?\n",
        "#### 3. Berapa jenis profesi pada data tersebut, 3 pekerjaan apa yang paling banyak, dan berapa diantaranya yang berprofesi sebagai pengacara (lawyer)?\n",
        "#### 4. Apakah alamat email dari customer yang menggunakan Nomor Kartu Kredit : 4926535242672853 \n",
        "#### 5. Penjualan lebih banyak terjadi pada pagi (AM) atau siang sd malam (PM)?\n",
        "#### 6. Berapa orang menggunakan Kartu Kredit American Express dan berbelanja diatas 90 USD?\n",
        "#### 7. Berapa orang yang kartu kreditnya expired di tahun 2023?\n",
        "#### 8. Tiga domain email yang paling sering digunakan customer adalah : ______, _______, dan __________\n"
      ]
    },
    {
      "cell_type": "markdown",
      "metadata": {
        "id": "kVSzRYx8FOwb"
      },
      "source": [
        "## Solusi Case 02 :\n",
        "\n",
        "\n"
      ]
    },
    {
      "cell_type": "code",
      "source": [
        "import pandas as pd\n",
        "import re\n",
        "from datetime import date, timedelta\n",
        "\n",
        "ecommerce_df.rename(columns = {'Unnamed: 0':'idx'}, inplace = True)\n",
        "sorted_df = ecommerce_df.sort_values(by='idx', ascending=True)\n",
        "\n",
        "# no 1 - engineer\n",
        "df_temp = sorted_df[sorted_df['Job'].str.contains('engineer')]\n",
        "print('1. Total pekerjaan dengan title \"engineer\": ', df_temp['Job'].count())\n",
        "\n",
        "# no 2 - rusia\n",
        "df_temp = sorted_df[sorted_df['Language'].str.contains('ru')]\n",
        "print('2. Jumlah orang yang menggunakan bahasa Russia untuk mengakses website: ', df_temp['Language'].count())\n",
        "\n",
        "# no 3 - 3 job terbanyak & lawyer\n",
        "df_job = sorted_df.Job.value_counts()\n",
        "sorted_df_job = df_job.sort_values(ascending = False)\n",
        "print('3. Jumlah jenis profesi: ', df_job.count())\n",
        "print('Tiga Pekerjaan terbanyak:')\n",
        "print(sorted_df_job.head(3))\n",
        "\n",
        "# no 4 - email\n",
        "df_temp = sorted_df[sorted_df['Credit Card'].astype(str).str.contains('4926535242672853')]\n",
        "print('4. Alamat email dari customer yang menggunakan Nomor Kartu Kredit : 4926535242672853 adalah')\n",
        "print(df_temp.Email)\n",
        "\n",
        "# no 5 - AM or PM\n",
        "print('5. Jumlah penjualan pada pagi (AM):')\n",
        "df_temp = sorted_df[sorted_df['AM or PM'].str.contains('AM')]\n",
        "print(df_temp['AM or PM'].count())\n",
        "print('Jumlah penjualan pada siang sd malam (PM):')\n",
        "df_temp = sorted_df[sorted_df['AM or PM'].str.contains('PM')]\n",
        "print(df_temp['AM or PM'].count())\n",
        "\n",
        "# no 6 - American Express & > 90 USD\n",
        "print('6. Jumlah orang menggunakan Kartu Kredit American Express dan berbelanja diatas 90 USD')\n",
        "df_temp = sorted_df[sorted_df['CC Provider'].str.contains('American Express')]\n",
        "df_temp = df_temp[df_temp['Purchase Price'].gt(90)]\n",
        "print(df_temp['Purchase Price'].count())\n",
        "\n",
        "# no 7 - CC exp 2023\n",
        "print('7. Jumlah orang yang kartu kreditnya expired di tahun 2023')\n",
        "df_temp = sorted_df[sorted_df['CC Exp Date'].astype(str).str.contains('23')]\n",
        "print(df_temp['CC Exp Date'].count())\n",
        "\n",
        "# no 8 - Domain email\n",
        "print('8. 3 domain email yang paling sering digunakan customer:')\n",
        "df_temp = sorted_df['Email'].str.split('@').str[1]\n",
        "print(df_temp.value_counts().head(3))"
      ],
      "metadata": {
        "colab": {
          "base_uri": "https://localhost:8080/"
        },
        "id": "scCUvBWGH6fS",
        "outputId": "da4ad1c0-878d-4a4a-a598-52a205f148bd"
      },
      "execution_count": null,
      "outputs": [
        {
          "output_type": "stream",
          "name": "stdout",
          "text": [
            "1. Total pekerjaan dengan title \"engineer\":  282\n",
            "2. Jumlah orang yang menggunakan bahasa Russia untuk mengakses website:  575\n",
            "3. Jumlah jenis profesi:  623\n",
            "Tiga Pekerjaan terbanyak:\n",
            "Lawyer                           21\n",
            "Interior and spatial designer    20\n",
            "Insurance claims handler         19\n",
            "Name: Job, dtype: int64\n",
            "4. Alamat email dari customer yang menggunakan Nomor Kartu Kredit : 4926535242672853 adalah\n",
            "1975    bondellen@williams-garza.com\n",
            "Name: Email, dtype: object\n",
            "5. Jumlah penjualan pada pagi (AM):\n",
            "2429\n",
            "Jumlah penjualan pada siang sd malam (PM):\n",
            "2571\n",
            "6. Jumlah orang menggunakan Kartu Kredit American Express dan berbelanja diatas 90 USD\n",
            "46\n",
            "7. Jumlah orang yang kartu kreditnya expired di tahun 2023\n",
            "490\n",
            "8. 3 domain email yang paling sering digunakan customer:\n",
            "hotmail.com    829\n",
            "yahoo.com      815\n",
            "gmail.com      787\n",
            "Name: Email, dtype: int64\n"
          ]
        }
      ]
    },
    {
      "cell_type": "markdown",
      "metadata": {
        "id": "hoo9abUzFOwg"
      },
      "source": [
        "## Case 03\n",
        "\n",
        "#### Pada kasus kali ini kita akan menganalisa data panggilan emergency yang sudah tersedia pada URL berikut : https://uph-datasets.s3-ap-southeast-1.amazonaws.com/call_data.csv\n",
        "\n",
        "#### Keterangan tiap kolom : \n",
        " - lat : Latitude\n",
        " - lng:  Longitude\n",
        " - desc: Keterangan panggilan emergency\n",
        " - zip: Kode Pos\n",
        " - title: Judul/Topik\n",
        " - timeStamp: Waktu dalam format YYYY-MM-DD HH:MM:SS\n",
        " - twp: Kota\n",
        " - addr: Alamat\n",
        " \n",
        "#### Load data tersebut ke dataframe dengan nama call_df dan kemudian tambahkan kolom \"reason\" dimana nilai reason diambil dari isi bagian pertama sebelum tanda \":\", misalnya EMS: BACK PAINS/INJURY, maka reason harusnya adalah \"EMS\"\n",
        "\n",
        "#### Dari data tersebut anda diminta untuk menjawab beberapa pertanyaan berikut : \n",
        "#### 1. Berapakah jumlah call per \"reasons\"? Tampilkan dalam bentuk grafis. EMS = ? , Fire = ?, dst\n",
        "#### 2. Tampilkan dalam bentuk grafis jumlah call per tiap reason, kelompokkan menurut harian : Senin sampai Minggu.\n",
        "#### 3. Buatlah dataframe baru call_dayhour_df untuk menampilkan jumlah total call per hari (senin sd minggu) dan per jam (00 - 23). Tips (Gunakan Group By) \n",
        "#### 4. Plot heatmap dari call_dayhour_df pada hari senin sampai jumat pada jam 8 sd 14"
      ]
    },
    {
      "cell_type": "markdown",
      "metadata": {
        "id": "UBFreDBHFOwg"
      },
      "source": [
        "### Solusi Case 3 : "
      ]
    },
    {
      "cell_type": "code",
      "execution_count": null,
      "metadata": {
        "id": "Yg7tVYiFGPip",
        "colab": {
          "base_uri": "https://localhost:8080/",
          "height": 1000
        },
        "outputId": "6fdc8fa6-5ac0-4bfd-b71c-2c3e8d337e95"
      },
      "outputs": [
        {
          "output_type": "stream",
          "name": "stdout",
          "text": [
            "1. Jumlah Call per \"reason\"\n",
            "title  \n",
            "EMS        48877\n",
            "Traffic    35695\n",
            "Fire       14920\n",
            "dtype: int64\n"
          ]
        },
        {
          "output_type": "display_data",
          "data": {
            "image/png": "[encoded data removed]",
            "text/plain": [
              "<Figure size 432x288 with 1 Axes>"
            ]
          },
          "metadata": {
            "needs_background": "light"
          }
        },
        {
          "output_type": "stream",
          "name": "stdout",
          "text": [
            "2. \n",
            "Jumlah Call - EMS\n"
          ]
        },
        {
          "output_type": "display_data",
          "data": {
            "image/png": "[encoded data removed]",
            "text/plain": [
              "<Figure size 432x288 with 1 Axes>"
            ]
          },
          "metadata": {
            "needs_background": "light"
          }
        },
        {
          "output_type": "stream",
          "name": "stdout",
          "text": [
            "Jumlah Call - Traffic\n"
          ]
        },
        {
          "output_type": "display_data",
          "data": {
            "image/png": "[encoded data removed]",
            "text/plain": [
              "<Figure size 432x288 with 1 Axes>"
            ]
          },
          "metadata": {
            "needs_background": "light"
          }
        },
        {
          "output_type": "stream",
          "name": "stdout",
          "text": [
            "Jumlah Call - Fire\n"
          ]
        },
        {
          "output_type": "display_data",
          "data": {
            "image/png": "[encoded data removed]",
            "text/plain": [
              "<Figure size 432x288 with 1 Axes>"
            ]
          },
          "metadata": {
            "needs_background": "light"
          }
        },
        {
          "output_type": "stream",
          "name": "stdout",
          "text": [
            "3. Jumlah total call per hari (senin sd minggu) dan per jam (00 - 23)\n"
          ]
        },
        {
          "output_type": "display_data",
          "data": {
            "text/plain": [
              "timeStamp_y  timeStamp\n",
              "0            0            282\n",
              "             1            221\n",
              "             2            201\n",
              "             3            194\n",
              "             4            204\n",
              "                         ... \n",
              "6            19           655\n",
              "             20           537\n",
              "             21           461\n",
              "             22           415\n",
              "             23           330\n",
              "Length: 168, dtype: int64"
            ]
          },
          "metadata": {}
        },
        {
          "output_type": "stream",
          "name": "stdout",
          "text": [
            "4.\n"
          ]
        },
        {
          "output_type": "execute_result",
          "data": {
            "text/plain": [
              "<matplotlib.axes._subplots.AxesSubplot at 0x7ff015debe50>"
            ]
          },
          "metadata": {},
          "execution_count": 6
        },
        {
          "output_type": "display_data",
          "data": {
            "image/png": "[encoded data removed]",
            "text/plain": [
              "<Figure size 432x288 with 2 Axes>"
            ]
          },
          "metadata": {
            "needs_background": "light"
          }
        }
      ],
      "source": [
        "from IPython.display import HTML\n",
        "import pandas as pd\n",
        "import matplotlib.pyplot as plt\n",
        "from datetime import date, timedelta\n",
        "import numpy as np\n",
        "import seaborn as sns \n",
        "% matplotlib inline\n",
        "\n",
        "call_df = pd.read_csv(\"https://uph-datasets.s3-ap-southeast-1.amazonaws.com/call_data.csv\")\n",
        "# display(call_df)\n",
        "\n",
        "# no 1 - jumlah call / reasons\n",
        "print('1. Jumlah Call per \"reason\"')\n",
        "df_reason = pd.DataFrame(call_df['title'].str.split(':').str[0])\n",
        "print(df_reason.value_counts())\n",
        "df_reason.value_counts().plot.bar()\n",
        "plt.show()\n",
        "\n",
        "# no 2 - grafis per tiap reason / senin-minggu\n",
        "print('2. ')\n",
        "# ems\n",
        "print('Jumlah Call - EMS')\n",
        "df_ems = call_df[call_df['title'].str.contains('EMS')]\n",
        "df_ems_day = pd.to_datetime(df_ems['timeStamp'])\n",
        "df_ems_day = df_ems_day.dt.weekday\n",
        "\n",
        "df_ems_day.value_counts().sort_index().plot.bar()\n",
        "plt.show()\n",
        "\n",
        "# traffic\n",
        "print('Jumlah Call - Traffic')\n",
        "df_tr = call_df[call_df['title'].str.contains('Traffic')]\n",
        "df_tr_day = pd.to_datetime(df_tr['timeStamp'])\n",
        "df_tr_day = df_tr_day.dt.weekday\n",
        "\n",
        "df_tr_day.value_counts().sort_index().plot.bar()\n",
        "plt.show()\n",
        "\n",
        "# fire\n",
        "print('Jumlah Call - Fire')\n",
        "df_fi = call_df[call_df['title'].str.contains('Fire')]\n",
        "df_fi_day = pd.to_datetime(df_fi['timeStamp'])\n",
        "df_fi_day = df_fi_day.dt.weekday\n",
        "\n",
        "df_fi_day.value_counts().sort_index().plot.bar()\n",
        "plt.show()\n",
        "\n",
        "# 3 - day and time\n",
        "print('3. Jumlah total call per hari (senin sd minggu) dan per jam (00 - 23)')\n",
        "df_temp = pd.to_datetime(call_df['timeStamp'])\n",
        "df_temp1 = df_temp.dt.weekday\n",
        "df_temp2 = df_temp.dt.hour\n",
        "\n",
        "# Merge by creating DataFrame from Series\n",
        "new_df = call_df.merge(df_temp1.to_frame(), left_index=True, right_index=True)\n",
        "new_df = new_df.merge(df_temp2.to_frame(), left_index=True, right_index= True)\n",
        "\n",
        "call_dayhour_df = new_df.groupby(['timeStamp_y', 'timeStamp'])\n",
        "call_dayhour_df = call_dayhour_df.size()\n",
        "display(call_dayhour_df)\n",
        "\n",
        "# 4 - heatmap\n",
        "print('4.')\n",
        "new_df = new_df[(new_df['timeStamp_y']>0) & (new_df['timeStamp_y']<6)] \n",
        "new_df = new_df[(new_df['timeStamp']>7) & (new_df['timeStamp']<15)]\n",
        "call_dayhour_df = new_df.groupby(['timeStamp_y', 'timeStamp'])\n",
        "call_dayhour_df1 = call_dayhour_df.size()\n",
        "\n",
        "a = [8, 9, 10, 11, 12, 13, 14]\n",
        "b = ['Senin', 'Selasa', 'Rabu', 'Kamis', 'Jumat']\n",
        "arr = call_dayhour_df1.values\n",
        "reshaped = arr.reshape((7, 5))\n",
        "df = pd.DataFrame(reshaped, index=a, columns=b)\n",
        "sns.heatmap(df, annot=True, fmt='g')"
      ]
    }
  ],
  "metadata": {
    "colab": {
      "collapsed_sections": [],
      "name": "UTS-Kelompok Cindy.ipynb",
      "provenance": [],
      "include_colab_link": true
    },
    "kernelspec": {
      "display_name": "Python 3",
      "language": "python",
      "name": "python3"
    },
    "language_info": {
      "codemirror_mode": {
        "name": "ipython",
        "version": 3
      },
      "file_extension": ".py",
      "mimetype": "text/x-python",
      "name": "python",
      "nbconvert_exporter": "python",
      "pygments_lexer": "ipython3",
      "version": "3.7.4"
    },
    "varInspector": {
      "cols": {
        "lenName": 16,
        "lenType": 16,
        "lenVar": 40
      },
      "kernels_config": {
        "python": {
          "delete_cmd_postfix": "",
          "delete_cmd_prefix": "del ",
          "library": "var_list.py",
          "varRefreshCmd": "print(var_dic_list())"
        },
        "r": {
          "delete_cmd_postfix": ") ",
          "delete_cmd_prefix": "rm(",
          "library": "var_list.r",
          "varRefreshCmd": "cat(var_dic_list()) "
        }
      },
      "types_to_exclude": [
        "module",
        "function",
        "builtin_function_or_method",
        "instance",
        "_Feature"
      ],
      "window_display": false
    }
  },
  "nbformat": 4,
  "nbformat_minor": 0
}